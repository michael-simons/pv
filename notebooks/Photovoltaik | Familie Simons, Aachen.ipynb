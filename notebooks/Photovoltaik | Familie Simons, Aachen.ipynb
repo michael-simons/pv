{
 "cells": [
  {
   "cell_type": "code",
   "execution_count": null,
   "id": "4a00fdc6",
   "metadata": {},
   "outputs": [],
   "source": [
    "from cycler import cycler\n",
    "from datetime import datetime\n",
    "from IPython.display import Markdown\n",
    "\n",
    "import duckdb\n",
    "import locale\n",
    "import pandas as pd\n",
    "import numpy as np\n",
    "import matplotlib.dates as mdates\n",
    "import matplotlib.pyplot as plt\n",
    "import math\n",
    "from scipy.optimize import curve_fit\n",
    "import suncalc\n",
    "import warnings\n",
    "\n",
    "locale.setlocale(locale.LC_ALL, 'de_DE')\n",
    "\n",
    "tz='Europe/Berlin'\n",
    "\n",
    "# Create a connection to your PV database. \n",
    "# Make sure you installed the schema as described in the README of the pv project.\n",
    "db = duckdb.connect('pv.db')\n",
    "\n",
    "v = db.execute('SELECT year(max(measured_on)) FROM measurements').fetchone()[0]\n",
    "\n",
    "if v is not None:\n",
    "    dt = datetime(v, 1, 1)\n",
    "else:\n",
    "    dt = datetime.today()\n",
    "    dt = datetime(dt.year, 1, 1)"
   ]
  },
  {
   "cell_type": "code",
   "execution_count": null,
   "id": "6cb9d3cb",
   "metadata": {},
   "outputs": [],
   "source": [
    "%%html\n",
    "<style>\n",
    "div.jp-OutputArea-executeResult > div.jp-RenderedMarkdown {\n",
    "    padding-left: var(--jp-code-padding);\n",
    "}\n",
    "</style>"
   ]
  },
  {
   "cell_type": "markdown",
   "id": "fc275580",
   "metadata": {},
   "source": [
    "# Statistiken und Gedanken zur Photovoltaikanlage"
   ]
  },
  {
   "cell_type": "code",
   "execution_count": null,
   "id": "66e5c0f3",
   "metadata": {},
   "outputs": [],
   "source": [
    "now = datetime.now()\n",
    "Markdown(f\"\"\"\n",
    "Letzte Aktualisierung: _{now.strftime('%x')}, {now.strftime('%X')}_.\n",
    "\n",
    "Die Quelltexte, inklusiver aller Datenbankstrukturen und Abfragen sowie das Jupyiter Notebook mit dem diese Seite generiert wurde sind unter Apache 2 License in meinem PV Repository veröffentlicht: [michael-simons/pv](https://github.com/michael-simons/pv).\n",
    "Diese Seite dient als kurzer Überblick über unsere Photovoltaikanlage in Aachen. Mit der Planung begannen wir im September 2022, Ende April 2023 speiste der Wechselrichter das erste Mal Strom in den Hauskreislauf und das Stromnetz, Ende Mai habe ich zum ersten Mal sinnvoll bilanzierte Werte aus dem Monitoringdevice auslesen können.\n",
    "Seit Ende Juni haben wir einen 2-Wegezähler und warten darauf, dass wir endlich durch die Einspeisevergütung reich werden ;)\n",
    "\"\"\")"
   ]
  },
  {
   "cell_type": "markdown",
   "id": "11ae0a6f",
   "metadata": {},
   "source": [
    "## Warum diese Seite?\n",
    "\n",
    "Ursprünglich hatte ich nicht vor, allzu viel Arbeit und Ehrgeiz in die Analyse der Daten der PV-Anlage zu stecken, weder in Charts noch irgendwelche anderen Satellitensoftware. Immerhin hatten wir doch bereits einen Energiemanager mitgekauft, der irgendwann einmal Batterie- und Wallboxsteuerung übernehmen soll. Es stellte sich aber schnell heraus, dass - wie üblich - Smartdevices nicht wirklich smart sind, Konfiguration auch für Profis schwierig ist und am Ende hab ich doch wieder selber etwas gebaut: Das aktuelle Setup liest die Daten des Wechselrichters direkt über [SunSpec Modbus](https://sunspec.org/sunspec-modbus-specifications/) aus und schreibt sie in eine [DuckDB Datenbank](https://duckdb.org). Den zu diesem Zweck programmierte  [Logger](https://github.com/michael-simons/pv/tree/main/logger) basiert auf dem [Energy systems reading toolkit](https://energy.basjes.nl) von [Niels Basjes](https://mastodon.basjes.nl/@niels). Bedankt, Niels.\n",
    "\n",
    "DuckDB ist eine sehr coole In-Prozess Datenbank mit dem Schwerpunkt [OLAP](https://de.wikipedia.org/wiki/Online_Analytical_Processing). Das Datenbankdesign dieser Anwendung folgt einer Teilmenge des [pink database design](https://www.salvis.com/blog/2018/07/18/the-pink-database-paradigm-pinkdb/#feature_3). Anstatt alle Queries direkt in einer Anwendung zu schreiben (oder gar ein ORM Framework zu nutzen und Statistiken in der Anwendung zu berechnen), habe ich eine ganze handvoll Views erstellt. Diese repräsentieren sozusagen die öffentliche API des Schemas. Sie sind natürlich auch im Repository gespeichert und liegen im [Schema-Ordner](https://github.com/michael-simons/pv/tree/main/schema) (Alle Dateien die mit `R__` anfangen).\n",
    "\n",
    "## Warum die Photovoltaikanlage?\n",
    "\n",
    "Wir wohnen seit 2010 im selben Ort und unsere Bezugskosten sind bis Ende 2019 mehr oder weniger kontinuierlich, aber vorhersagbar gestiegen. Mit der Pandemie, dem Krieg in der Ukraine, den Kosten des Klimawandels und schlussendlich der daraus steigenden Inflation wurden die Preise danach immer unkalkulierbarer. Langfristig ist unser Ziel, zumindest über einen Teil des Jahres stabile Stromkosten zu haben *und* dieses Haus nachhaltiger zu bewirtschaften.\n",
    "\n",
    "Im folgenden ein Diagramm unserer Beschaffungskosten seit 2010."
   ]
  },
  {
   "cell_type": "code",
   "execution_count": null,
   "id": "ab37b3f2",
   "metadata": {},
   "outputs": [],
   "source": [
    "buying_prices = db.execute('SELECT valid_from AS Jahr, net FROM v__buying_prices').df()\n",
    "imported = db.execute(\"SELECT date_trunc('year', period_end) as Jahr, import FROM official_measurements ORDER by period_start ASC\").df()\n",
    "\n",
    "imported_with_price = pd.merge_asof(buying_prices, imported, on='Jahr')\n",
    "\n",
    "fig, ax = plt.subplots(figsize=plt.figaspect(1/3))\n",
    "imported_with_price.plot(x='Jahr', y='net', ylabel='ct/kWh', label='Preis (links)', ax=ax)\n",
    "imported_with_price.plot(x='Jahr', y='import', ylabel='kWh', label='Arbeit (rechts)', ax=ax, secondary_y=True, mark_right=False)\n",
    "plt.title(\"Beschaffungskosten seit 2010\")\n",
    "\n",
    "plt.show()"
   ]
  },
  {
   "cell_type": "markdown",
   "id": "0c6001c3",
   "metadata": {},
   "source": [
    "Während die Menge bezogener Energie über die Jahre verhältnismäßig konst geblieben ist (2018 habe ich angefangen, 100% Remote zu Arbeite und seit ein paar Jahren spielen die Kinder mehr Computer als ich an einem arbeite, aber der Mehrbetrag ist vernachlässigbar). Der Bezugspreis hingegen ist seit 2010 um **75%** gestiegen. \n",
    "\n",
    "## Die Anlage\n",
    "\n",
    "Wir haben eine Anlage mit einer Peak-Leistung von 10.53kWp aufgebaut in einer aufgeteilten Ost/West Aufstellung. Ingesamt sind 26 [Solarwatt Glass-Glass \"Panel Vision AM 4.0\"](https://solarwatt.canto.global/direct/document/2bp9ip7a492p51429ek8qdr706/HPyRw7XsY0A3hu2B1c6SpNGxiOc/original?content-type=application%2Fpdf&name=Datenblatt+SOLARWATT+Panel+vision+AM+4.0+pure+de.pdf) Module mit einem Peak-Output von 405Wp pro Modul verbaut. Alle Module sind \"Plus-Auswahl\", d.h. 405Wp sind garantiert.\n",
    "\n",
    "* 14 in östlicher Richtung\n",
    "* 12 in westlicher Richtung\n",
    "\n",
    "Als Wechselrichter kommt ein Kaco [blueplanet 10.0 NX3 M2](https://kaco-newenergy.com/de/produkte/blueplanet-3.0-20.0-NX3-M2/) zum Einsatz, eines der wenigen Modelle die unser Installateur beziehungsweise [Solarwatt](https://www.solarwatt.de) liefern konnte. Ebenfalls von Solarwatt stammt der \"Energymanager\", der ist im ersten Monat soviel \"Freude\" bereitet hat. Immerhin, die Hotline war bemüht und hilfreich.\n",
    "\n",
    "Der mögliche Peak-Output von 10.53kWp ist deutlich mehr als wie tatsächlich täglich verbrauchen, aber mit Hinblick auf Autarkie in der Zukunft und weitere Anwendungen, wollten wir lieber sicher gehen. Bis jetzt steht noch offen, ob wir unser mehr als 10 Jahre altes Auto mit einem elektrischen ersetzen oder eine stationäre Batterie, eine Wärmepumpe oder beides kaufen. Auf Mastodon bekamen wir schon den Tipp, die Datensammlung und Analyse wie her fortzusetzen und insbesondere auf die Einspeisung zwischen Oktober und Februar zu achten: Größer als diese Menge braucht eine Batterie nicht sein. Ich finde den Tipp super, da ich gewohnheitsmässig eher zur Überdimensionierung neige. Bis dahin gibt es die bisherigen Ergebnisse:"
   ]
  },
  {
   "cell_type": "markdown",
   "id": "8c57d83e",
   "metadata": {},
   "source": [
    "## Ergebnisse\n",
    "\n",
    "Vorherige Jahre:\n",
    "\n",
    "* [2023](./2023.html)\n",
    "\n",
    "### Erzeugung"
   ]
  },
  {
   "cell_type": "code",
   "execution_count": null,
   "id": "10147c1f",
   "metadata": {},
   "outputs": [],
   "source": [
    "period = db.execute('SELECT min(measured_on) AS min, max(measured_on) AS max FROM measurements').df()\n",
    "Markdown(f\"\"\"\n",
    "Aktuell liegen Messungen vom **{period['min'][0].strftime('%x')}** bis zum **{period['max'][0].strftime('%x')}** vor. In dieser Zeit haben wir folgende Werte über alles ermittelt:\n",
    "\"\"\")"
   ]
  },
  {
   "cell_type": "code",
   "execution_count": null,
   "id": "338ce651",
   "metadata": {},
   "outputs": [],
   "source": [
    "new_names = {\n",
    "    'worst': 'Schlechtester Tag',\n",
    "    'best': 'Bester Tag',\n",
    "    'daily_avg': 'Durchschnitt',\n",
    "    'daily_median': 'Median',\n",
    "    'total': 'Gesamtproduktion',\n",
    "    'total_yield': 'Ertrag (kWh/kWp)',\n",
    "    'year': 'Jahr'\n",
    "}\n",
    "\n",
    "db.execute('SELECT * FROM v_overall_production').df().rename(columns=new_names)"
   ]
  },
  {
   "cell_type": "markdown",
   "id": "89ed6c63",
   "metadata": {},
   "source": [
    "mit durschnittlichen Werten pro Monat wie folgt:"
   ]
  },
  {
   "cell_type": "code",
   "execution_count": null,
   "id": "486fc79c",
   "metadata": {},
   "outputs": [],
   "source": [
    "average_per_month = db.execute('SELECT * FROM v_average_production_per_month').df()\n",
    "average_per_month['month'] = average_per_month['month'].apply(lambda i: datetime(2023, i, 1).strftime('%B'))\n",
    "average_per_month.plot(kind='bar', x='month', xlabel='Monat', ylabel='kWh', figsize=plt.figaspect(1/3))\n",
    "plt.legend([], frameon=False)\n",
    "plt.title(\"Durchschnittliche Erzeugung pro Monat\")\n",
    "plt.show()"
   ]
  },
  {
   "cell_type": "markdown",
   "id": "fa8bb662",
   "metadata": {},
   "source": [
    "Die Erzeugung heruntergebrochen auf einzelne Jahre:"
   ]
  },
  {
   "cell_type": "code",
   "execution_count": null,
   "id": "eec17fdf",
   "metadata": {},
   "outputs": [],
   "source": [
    "db.execute('SELECT * FROM v_yearly_production').df().rename(columns=new_names).set_index('Jahr')"
   ]
  },
  {
   "cell_type": "code",
   "execution_count": null,
   "id": "61da1572",
   "metadata": {},
   "outputs": [],
   "source": [
    "start = datetime(dt.year, 3, 21)\n",
    "end = start + pd.DateOffset(months=6)\n",
    "df = db.execute('SELECT * FROM v_weekly_quartiles WHERE sow BETWEEN ? AND ?', [start, end]).df()\n",
    "\n",
    "if not df.empty:\n",
    "  display(Markdown(f\"\"\"\n",
    "  Die Darstellung der wöchentlichen Erzeugung berücksichtigt Jahreszeiten und tägliches Wetter etwas besser als eine pauschale Darstellung der durchschnittlichen Erzeugung pro Monat:\n",
    "  \"\"\"))\n",
    "\n",
    "  df = df.rename(columns={\"week\": \"label\", \"min\": \"whislo\", \"max\": \"whishi\"})\n",
    "  df['label'] = df['label'].apply(lambda w: \"KW\" + str(w))\n",
    "  df[[\"q1\", \"med\", \"q3\"]] = df[\"quartiles\"].to_list()\n",
    "\n",
    "  _, ax = plt.subplots(figsize=plt.figaspect(1/3))\n",
    "  ax.bxp(df.to_dict(orient='records'), showfliers=False)\n",
    "  ax.set_ylabel(\"kWh\")\n",
    "\n",
    "  plt.title(f\"Wöchentliche Erzeugung von März bis September in {dt.year}\")\n",
    "  plt.show()"
   ]
  },
  {
   "cell_type": "code",
   "execution_count": null,
   "id": "4fa2677c",
   "metadata": {},
   "outputs": [],
   "source": [
    "max_peak = db.execute('SELECT round(production) as max_peak FROM v_peaks').df()['max_peak'][1];\n",
    "Markdown(f\"\"\"\n",
    "Die Wahrscheinlichkeit, dass wir jemals an die tatsächlich installierte Peak-Leistung herankommen werden, ist denkbar gering. \n",
    "Der bisher höchste, gemessene Wert in einer Viertelstunde waren **{max_peak}W**.\n",
    "Viel interessanter - und relevanter - ist jedoch die Tatsache, dass wir mit der gewählten Dachbelegung den ganzen Tag über einen brauchbaren Output habe. \n",
    "Der Wechselrichter startet zeitnah mit Sonnenaufgang und bereits im Mai wurde im Schnitt noch um 18:00 Uhr herum genügend Energie zum Kochen produziert. \n",
    "Das kann als Durchschnittswert pro Stunde visualisiert werden:\n",
    "\"\"\")"
   ]
  },
  {
   "cell_type": "code",
   "execution_count": null,
   "id": "222772dc",
   "metadata": {},
   "outputs": [],
   "source": [
    "average_per_hour = db.execute('SELECT * FROM v_average_production_per_hour').df()\n",
    "average_per_hour.plot(kind='bar', x='hour', xlabel='Stunde', ylabel='kWh', figsize=plt.figaspect(1/2))\n",
    "plt.legend([], frameon=False)\n",
    "plt.title(\"Durchschnittliche Erzeugung pro Stunde\")\n",
    "plt.show()"
   ]
  },
  {
   "cell_type": "markdown",
   "id": "812efafc",
   "metadata": {},
   "source": [
    "Die Werte für den Tag mit der bisherigen höchsten Erzeugung sehen so aus:"
   ]
  },
  {
   "cell_type": "code",
   "execution_count": null,
   "id": "3bd596f9",
   "metadata": {},
   "outputs": [],
   "source": [
    "best_day = db.execute('SELECT * FROM v_best_performing_day').df()\n",
    "lat_long = db.execute('SELECT * FROM v_place_of_installation').df()\n",
    "lat, long = lat_long['lat'][0], lat_long['long'][0]\n",
    "\n",
    "localize_tz = lambda v: v.tz_localize(tz=tz)\n",
    "to_degree = lambda v: math.degrees(v) if v > 0 else 0\n",
    "\n",
    "best_day['measured_on'] = best_day['measured_on'].apply(localize_tz)\n",
    "best_day['altitude'] = pd.DataFrame(suncalc.get_position(best_day['measured_on'], long, lat)['altitude'].apply(to_degree))\n",
    "\n",
    "_, ax = plt.subplots(figsize=plt.figaspect(1/2))\n",
    "best_day.plot(x='measured_on', y='production', xlabel='Uhrzeit', ylabel='W', label='Erzeugung', ax=ax)\n",
    "best_day.plot(x='measured_on', y='altitude', xlabel='Uhrzeit ', ylabel='Sonnenstand über dem Horizont in °', label='Sonnenstand', ax=ax, secondary_y=True, mark_right=False)\n",
    "\n",
    "with warnings.catch_warnings():\n",
    "    warnings.simplefilter('ignore')\n",
    "    # hourAngle in suncalc.py will produce a NaN in acos, same as suncalc.js\n",
    "    # the sun_times we want are correct and in line with suncalc.js, night and nightEnd will are NaT (not a time)\n",
    "    sun_times = suncalc.get_times(best_day['measured_on'][0].floor('d') + pd.Timedelta(days=1), long, lat)\n",
    "sun_times = {k: v.tz_localize(tz='UTC').tz_convert(tz='Europe/Berlin') for k, v in sun_times.items()}\n",
    "\n",
    "ax.xaxis.set_major_formatter(lambda v, p: '')\n",
    "ax.axvspan(sun_times['dawn'], sun_times['sunrise_end'], color='red', alpha=0.1)\n",
    "ax.axvspan(sun_times['solar_noon'] - pd.Timedelta(minutes=5), sun_times['solar_noon'] + pd.Timedelta(minutes=5), color='yellow', alpha=0.4)\n",
    "ax.axvspan(sun_times['sunset_start'], sun_times['dusk'], color='blue', alpha=0.1)\n",
    "plt.title(f\"Erzeugung am {best_day['measured_on'][0].strftime('%x')}\")\n",
    "\n",
    "plt.show()"
   ]
  },
  {
   "cell_type": "code",
   "execution_count": null,
   "id": "c30cf8d8",
   "metadata": {},
   "outputs": [],
   "source": [
    "Markdown(f\"\"\"\n",
    "Die orangene Kurve gibt den Sonnenverlauf am {best_day['measured_on'][0].strftime('%x')} wieder, \n",
    "der rote Balken markiert die Zeit von Anfang der Morgendämmerung bis zum Ende des Sonnenaufgangs an diesem Tag,\n",
    "der gelbe eine Phase von 10 Minuten um den wahren Mittag (dem Sonnenhöchststand) herum und\n",
    "der blaue schlussendlich die Zeit vom Sonnenuntergang bis Ende der Abenddämmerung.\n",
    "\"\"\")"
   ]
  },
  {
   "cell_type": "markdown",
   "id": "f82c49b7",
   "metadata": {
    "pycharm": {
     "name": "#%% md\n"
    }
   },
   "source": [
    "Ich mochte die Visualisierung von [Oli](https://social.tchncs.de/@oli) im Beitrag [\"Ein Jahr Photovoltaik: Tolle Dinge, die man mit SQL machen kann\"](https://tonick.net/p/2022/12/ein-jahr-photovoltaik/) so sehr, dass ich sie auch haben wollte. Und zwar die durchschnittliche Erzeugung pro Monat und Stunden, quasi die Kombination der beiden oberen Balkendiagramme. Diese Heatmap sieht tatsächlich nicht nur schön aus, sie ist auch informativ und gibt direkt eine Idee, zu welchem Teil des Jahres der Eigennutzungsgrad sehr hoch sein wird und wann nicht.\n",
    "\n",
    "DuckDB unterstützt ebenfalls ein `PIVOT`-Statement hat (siehe [`average_production_per_month_and_hour`](https://github.com/michael-simons/pv/blob/main/schema/R__Create_view_average_production_per_month_and_hour.sql)) und Pandas kann ganz einfach eine Tabelle mit den Farbkarten aus Matplotlib einfärben:"
   ]
  },
  {
   "cell_type": "code",
   "execution_count": null,
   "id": "2a30e6f9",
   "metadata": {},
   "outputs": [],
   "source": [
    "new_names_month_hour = {str(i): datetime(2023, i, 1).strftime('%B') for i in range(1,13)}\n",
    "new_names_month_hour['hour'] = 'Stunde'\n",
    "def formatter(v):\n",
    "    if v < 1.0:\n",
    "        return format(v*1000, '.2f') + \" Wh\"\n",
    "    else:\n",
    "        return format(v, '.2f') + \" kWh\"\n",
    "    \n",
    "df = db.execute('SELECT * FROM v_average_production_per_month_and_hour') \\\n",
    "  .df().dropna(how='all', axis=1) \\\n",
    "  .rename(columns=new_names_month_hour) \\\n",
    "  .set_index(['Stunde'])\n",
    "df.style \\\n",
    "  .background_gradient(cmap='YlOrRd') \\\n",
    "  .set_properties(**{'text-align': 'right'}) \\\n",
    "  .set_table_styles([dict(selector='th', props=[('text-align', 'right')])]) \\\n",
    "  .format(formatter) "
   ]
  },
  {
   "cell_type": "markdown",
   "id": "5979df0d",
   "metadata": {},
   "source": [
    "Die folgende Visualisierung zeigt ein Sonnenstandverlaufsdiagramm für den Ort unseres Hauses in Aachen. Zwei Dinge werden sehr schnell deutlich: Wir werden nicht viel Ertrag in den Wintermonaten haben, die Sonne wird zwischen 9 und 17 Uhr in einem für uns ungünstigen Winkel scheinen. Am kürzesten Tag des Jahres steht die Sonne am wahren Mittag genauso hoch wie sie es am längsten Tag des Jahres bereits um 8 Uhr morgens tut. \n",
    "\n",
    "In der Darstellung befinden sich 4 Kurven: der Verlauf der Sonnen zur Winter- und Sommersonnenwende, der Verlauf am bisher produktivsten Tag sowie in Grau ein Tag zwischen den Sonnenwendtagen als Orientierung. Die hübschen, 8-förmigen Schleifen heissen [Analemma](https://de.wikipedia.org/wiki/Analemma). Diese Figur entsteht, wenn der Sonnenverlauf von einem fixen Punkt auf der Erde über ein Jahr täglich zur selben Zeit beobachten. Durch die Analemma können die Uhrzeiten auf den Verlaufskurven miteinander in Verbindung gebracht werden. "
   ]
  },
  {
   "cell_type": "code",
   "execution_count": null,
   "id": "2bd1b190",
   "metadata": {},
   "outputs": [],
   "source": [
    "times = pd.date_range(datetime(dt.year, 1, 1), datetime(dt.year+1, 1, 1), inclusive='left', freq='H', tz=tz)\n",
    "solpos = pd.DataFrame(suncalc.get_position(times, long, lat))\n",
    "solpos = pd.DataFrame(times).join(solpos, how='inner').loc[solpos['altitude'] > 0, :]\n",
    "solpos = solpos.set_index(0)\n",
    "solpos['altitude'] = np.vectorize(to_degree)(solpos['altitude'])\n",
    "solpos['azimuth'] = np.vectorize(lambda v: math.degrees(v))(solpos['azimuth'])\n",
    "\n",
    "fig, ax = plt.subplots(figsize=plt.figaspect(1/3))\n",
    "points = ax.scatter(solpos['azimuth'], solpos['altitude'], s=2, c=solpos.index.dayofyear, label=None)\n",
    "fig.colorbar(points)\n",
    "\n",
    "for hour in np.unique(solpos.index.hour):\n",
    "    subset = solpos.loc[solpos.index.hour == hour, :]\n",
    "    height = subset['altitude']\n",
    "    pos = solpos.loc[height.idxmax(), :]\n",
    "    ax.text(pos['azimuth'], pos['altitude'], str(hour))\n",
    "    \n",
    "cmap = plt.colormaps.get_cmap('YlOrRd')\n",
    "neutral_day = datetime(dt.year, 3, 21)\n",
    "best_day_date = best_day['measured_on'][0].tz_localize(None).to_pydatetime()\n",
    "dates_of_interest = [datetime(dt.year-1, 12, 21), best_day_date, neutral_day, datetime(dt.year, 6, 21)]\n",
    "dates_of_interest.sort()\n",
    "idx = 0 if dates_of_interest[0] != best_day_date else 1\n",
    "dates_of_interest[idx] = dates_of_interest[idx].replace(year=dt.year)\n",
    "\n",
    "for index, date in enumerate(pd.to_datetime(dates_of_interest)):\n",
    "    times = pd.date_range(date, date+pd.Timedelta('24h'), freq='1min', tz=tz)\n",
    "    solpos = pd.DataFrame(suncalc.get_position(times, long, lat))\n",
    "    solpos = solpos.loc[solpos['altitude'] > 0, :]\n",
    "    solpos['altitude'] = np.vectorize(to_degree)(solpos['altitude'])\n",
    "    solpos['azimuth'] = np.vectorize(lambda v: math.degrees(v))(solpos['azimuth'])\n",
    "    label = date.strftime('%Y-%m-%d')\n",
    "    color = 'grey' if date == neutral_day else cmap(0.4 + 0.2 * index)\n",
    "    ax.plot(solpos['azimuth'], solpos['altitude'], label=label, color=color)\n",
    "    \n",
    "fig.legend(loc='center right')\n",
    "ax.set_xlabel('Sonnenazimut in ° von Süden nach Westen')\n",
    "ax.set_ylabel('Sonnenstand über dem Horizont in °')\n",
    "plt.title(\"Sonnenverlauf in Aachen\")\n",
    "\n",
    "plt.show()"
   ]
  },
  {
   "cell_type": "code",
   "execution_count": null,
   "id": "73fbc11e",
   "metadata": {},
   "outputs": [],
   "source": [
    "first_proper_readings = db.execute(\"SELECT value FROM domain_values WHERE name = 'FIRST_PROPER_READINGS_ON'\").df()\n",
    "Markdown(f\"\"\"\n",
    "### Eigenverbrauchsanteil, Autarkiegrad und Amortisierung\n",
    "\n",
    "*Achtung*: Aufgrund von Problemen mit dem Metering beginnen alle Statistiken die Verbrauch, Bezug und Einspeisung benutzen erst am **{datetime.strptime(first_proper_readings['value'][0],'%Y-%m-%d').strftime('%x')}**.\n",
    "\"\"\")"
   ]
  },
  {
   "cell_type": "markdown",
   "id": "2db08029",
   "metadata": {},
   "source": [
    "#### Eigenverbrauchsanteil und Autarkiegrad\n",
    "\n",
    "Klarsolar erklärt den Unterschied zwischen Eigenverbrauch und Autorkiegrad ganz schön [hier](https://klarsolar.de/unterschied-eigenverbrauch-autarkie/):\n",
    "* Der Eigenverbrauchsanteil ist die Menge des selbst produzierten Solarstroms, die man direkt selbst verbraucht.\n",
    "  <br>Er berechnet sich so: `(Erzeugung - Einspeisung) / Erzeugung * 100`\n",
    "* Der Autarkiegrad beschreibt die Menge des Eigenverbrauchanteils im Verhältnis zum Gesamtstromverbrauch.\n",
    "  <br>Er berechnit sich so: `(Erzeugung – Einspeisung) / Verbrauch * 100`\n",
    "\n",
    "\n",
    "Unsere Quoten sehen aktuell - ohne große Optimierungen - so aus. Mein Ziel ist mittelfristig die Erhöhung des Eigenverbrauchgrades, weniger die absolute Autarkie:"
   ]
  },
  {
   "cell_type": "code",
   "execution_count": null,
   "id": "fdbe3688",
   "metadata": {},
   "outputs": [],
   "source": [
    "new_names = {'internal_consumption': 'Eigenverbrauchsanteil in %', 'autarchy': 'Autarkiegrad', 'year': 'Jahr'}\n",
    "db.execute('SELECT * FROM v_yearly_internal_consumption_share').df().fillna(0).rename(columns=new_names).set_index('Jahr')"
   ]
  },
  {
   "cell_type": "markdown",
   "id": "bc65eb84",
   "metadata": {},
   "source": [
    "Auch hier finde ich die Darstellung pro Stunde aufschlussreich, zumindest hinsichtlich wie wir unser eigenes Verhalten optimieren können:"
   ]
  },
  {
   "cell_type": "code",
   "execution_count": null,
   "id": "173e0a95",
   "metadata": {},
   "outputs": [],
   "source": [
    "df = db.execute('SELECT hour, autarchy, internal_consumption FROM v_average_internal_consumption_share_per_hour').df()\n",
    "df = df.rename(columns=new_names)\n",
    "df.plot(kind='bar', x='hour', xlabel='Stunde', ylabel='%', figsize=plt.figaspect(1/3))\n",
    "\n",
    "plt.title(\"Durchschnittlicher Autarkiegrad und Eigenverbrauchsanteil je Stunde\")\n",
    "\n",
    "plt.show()"
   ]
  },
  {
   "cell_type": "markdown",
   "id": "99bd4d9e",
   "metadata": {},
   "source": [
    "Die folgende Grafik stellt das Verhältnis von Einspeisung und Eigenverbrauch der Gesamtproduktion zusammen mit dem Gesamtverbrauch pro Tag im laufenden Jahr da. Die Größe der roten Fläche, die dem Bezug entspricht, ist in dieser Ansicht umgekehrt proportional zur Grad der Autorkie."
   ]
  },
  {
   "cell_type": "code",
   "execution_count": null,
   "id": "4b57ef2a",
   "metadata": {},
   "outputs": [],
   "source": [
    "end = dt + pd.DateOffset(years=1) - pd.Timedelta(days=1)\n",
    "df = db.execute('SELECT * FROM v_energy_flow_per_day WHERE day BETWEEN ? and ?', [dt, end]).df()\n",
    "df = df.set_index('day')\n",
    "\n",
    "_, ax = plt.subplots(figsize=plt.figaspect(1/3))\n",
    "c=cycler(color=['#8dd3c7', '#fb8072', '#ffffb3', '#bebada'])\n",
    "ax.set_prop_cycle(c)\n",
    "\n",
    "df['production'] = (df['production'] - df['consumption'] + df['import']).clip(lower=0)\n",
    "df['consumption'] = df['internal_consumption'] + df['import']\n",
    "\n",
    "df.loc[:,['internal_consumption','import', 'production']].plot(kind='area', stacked=True, ax=ax)\n",
    "df.loc[:,['consumption']].plot(linewidth=2, ax=ax)\n",
    "\n",
    "ax.xaxis.set_minor_formatter(lambda x,p: '')\n",
    "ax.xaxis.set_major_formatter(mdates.DateFormatter('%b'))\n",
    "h, l = ax.get_legend_handles_labels()\n",
    "ax.legend(h, [\"Eigenverbrauch\", \"Bezug\", \"Einspeisung\", \"Gesamtverbrauch\"])\n",
    "plt.xlabel(\"\")\n",
    "plt.ylabel(\"kWh\")\n",
    "plt.title(f\"Verhältnis von Einspeisung und Eigenverbrauch in {dt.year}\")\n",
    "\n",
    "plt.show()"
   ]
  },
  {
   "cell_type": "markdown",
   "id": "744a52e0",
   "metadata": {},
   "source": [
    "#### Amortisierung\n",
    "\n",
    "Bei der Volleinspeisung wird die gesamte von einer Photovoltaikanlage erzeugte elektrische Energie ins öffentliche Stromnetz eingespeist, anstatt sie (teilweise) für den Eigenverbrauch zu nutzen. Bei der Teileinspeisung hingegen wird ein Teil der von einer Photovoltaikanlage erzeugten Energie ins öffentliche Stromnetz eingespeist. Der verbleibende Teil wird für den Eigenverbrauch im Haushalt oder Gebäude verwendet. Die Vergütung für die Volleinspeisung ist nur noch marginal höher als für Teileinspeisung und lohnt sich nicht mehr für Anlagen in der Größenordnung wie hier. Unsere Bezugskosten sind mindestens um den Faktor 4 höher als die Einspeisevergütung.\n",
    "\n",
    "Die Vergütungen für eine Anlage unserer Größe in Teileinspeisung werden unten dargestellt:"
   ]
  },
  {
   "cell_type": "code",
   "execution_count": null,
   "id": "b21e1780",
   "metadata": {},
   "outputs": [],
   "source": [
    "db.execute(\"SELECT valid_from as 'Gültig von', valid_until as 'Gültig bis', value as 'ct/kWh' FROM v__selling_prices WHERE type = 'partial_sell'\").df().fillna('-')"
   ]
  },
  {
   "cell_type": "markdown",
   "id": "40a300f8",
   "metadata": {},
   "source": [
    "Das folgende Diagram präsentiert die laufende Summe unser initialen Investitionskosten plus Vergütung und Ersparnissen.\n",
    "\n",
    "Die Amortisierung bei Volleinspeisung ist hypothetisch und basiert auf der reinen Vergütung.\n",
    "Die Amortisierung bei Teileinspeisung basiert auf der Vergütung der eingespeisten Energie plus der Ersparniss durch den Eigenverbrauch (aka dem nicht Kaufen von Energie).\n",
    "\n",
    "Alle Werte in der mit hellem Lila hinterlegte Fläche sind interpolierte Werte. Allerdings ist doch recht offensichtlich, dass sich eine in 2023 angeschaffte Anlege nicht mehr in derselben Dekade amortisieren wird."
   ]
  },
  {
   "cell_type": "code",
   "execution_count": null,
   "id": "031f4c15",
   "metadata": {},
   "outputs": [],
   "source": [
    "# Idea of the linear extrapolation is mostly from this great answer by tmthydvnprt\n",
    "# https://stackoverflow.com/a/35959909/1547989\n",
    "\n",
    "df = db.execute('SELECT month, full_export, partial_export FROM v_amortization').df()\n",
    "df.set_index(['month'], inplace=True)\n",
    "\n",
    "_, ax = plt.subplots(figsize=plt.figaspect(1/3))\n",
    "\n",
    "legend = ['Hypothetische Volleinspeisung', 'Teileinspeisung', 'Break even']\n",
    "# Memorize last entry\n",
    "last_month = df.index[len(df)-1]\n",
    "first_extrapolated_month = None\n",
    "\n",
    "if len(df) < 120:    \n",
    "    num_months_extrapolation = 120 - len(df)\n",
    "    \n",
    "    # Extend the index\n",
    "    df = pd.DataFrame(data=df, index=pd.date_range(\n",
    "            start=df.index[0],\n",
    "            periods=len(df.index) + num_months_extrapolation,\n",
    "            freq='MS'\n",
    "        )\n",
    "    )\n",
    "    \n",
    "    first_extrapolated_month = last_month + pd.DateOffset(months=1);\n",
    "    \n",
    "    di = df.index\n",
    "    df = df.reset_index(drop=True)\n",
    "    \n",
    "    # Function to curve fit to the data\n",
    "    def func(x, a, b):\n",
    "        return a * x + b\n",
    "    \n",
    "    # Initial parameter guess, just to kick off the optimization\n",
    "    guess = (1, 1)\n",
    "    \n",
    "    # Create copy of data to remove NaNs for curve fitting\n",
    "    fit_df = df.dropna()\n",
    "    \n",
    "    # Place to store function parameters for each column\n",
    "    col_params = {}\n",
    "    \n",
    "    # Curve fit each column\n",
    "    for col in fit_df.columns:\n",
    "        # Get x & y\n",
    "        x = fit_df.index.astype(float).values\n",
    "        y = fit_df[col].values\n",
    "        with warnings.catch_warnings():\n",
    "            warnings.simplefilter('ignore')\n",
    "            # Curve fit column and get curve parameters\n",
    "            params = curve_fit(func, x, y, guess)\n",
    "            # Store optimized parameters\n",
    "            col_params[col] = params[0]\n",
    "    \n",
    "    # Extrapolate each column\n",
    "    for col in df.columns:\n",
    "        # Get the index values for NaNs in the column\n",
    "        x = df[pd.isnull(df[col])].index.astype(float).values\n",
    "        # Extrapolate those points with the fitted function\n",
    "        df[col][x] = func(x, *col_params[col])\n",
    "    \n",
    "    df.index = di\n",
    "    legend = legend + ['Tatsächliche Daten', 'Extrapolierte Werte']\n",
    "\n",
    "\n",
    "df.plot(ax=ax)\n",
    "ax.axhline(color='green')\n",
    "if first_extrapolated_month != None:\n",
    "    ax.axvspan(df.index[0], first_extrapolated_month, color='green', alpha=0.1)\n",
    "    ax.axvspan(first_extrapolated_month, df.index[-1], color='purple', alpha=0.05)\n",
    "ax.legend(legend , loc='lower right')\n",
    "\n",
    "plt.xlabel('Zeit in Betrieb')\n",
    "plt.ylabel('EUR')\n",
    "plt.ylim(top=5000)\n",
    "plt.title(\"Amortisierungsverlauf\")\n",
    "\n",
    "plt.show()"
   ]
  },
  {
   "cell_type": "markdown",
   "id": "e24ebd20",
   "metadata": {},
   "source": [
    "Photovoltaik in Deutschland mit einer Anlage dieser Größe ist kein Mittel um schnell reich zu werden. Eher, um langsamer arm zu werden wie mein Freund Oli es ausdrückte. Daher zum Abschluss wieder ein ähnliches Diagram wie in seinem Blog. Das Diagram zeigt die jährlich akkumulierten Energiekosten in unserem Haus. Die erste Kurve ohne den Nutzen und die Ersparnisse der Photovoltaikanlage zu betrachten, die zweite Kurve bilanziert die tatsächlich angefallen Verbrauchskosten mit den Ersparnissen und Vergütungen. Falls wir am Ende eines vollen Jahres die null mit dieser Kurve erreichen, bin ich zufrieden. Negative Werte bedeuten entsprechen einer realen Vergütung."
   ]
  },
  {
   "cell_type": "code",
   "execution_count": null,
   "id": "4195afcb",
   "metadata": {},
   "outputs": [],
   "source": [
    "df = db.execute('SELECT * FROM v_accumulated_yearly_energy_costs').df()\n",
    "\n",
    "_, ax = plt.subplots(figsize=plt.figaspect(1/3))\n",
    "\n",
    "colors = {1: 'tab:red', 0: 'black', -1: 'tab:green'}\n",
    "\n",
    "def color(val):\n",
    "    return (colors.get(int(np.sign(val))))\n",
    "\n",
    "def labels(row):\n",
    "    if row['cost_without_pv'] > 0: ax.text(x=row['month'], y=row['cost_without_pv'], s=row['cost_without_pv'], color=color(row['cost_without_pv']))\n",
    "    ax.text(x=row['month'], y=row['cost_with_pv'], s=row['cost_with_pv'], color=color(row['cost_with_pv']))\n",
    "\n",
    "df.plot(x='month', ax = ax, xlabel='Monat', ylabel='EUR')\n",
    "df.apply(axis=1, func=labels);\n",
    "ax.axhline(color='green', linestyle=\"--\")\n",
    "ax.legend(['Hypothetische Energiekosten ohne PV', 'Tatsächliche Stromkosten', \"Hehres Ziel\"])\n",
    "\n",
    "l, r = plt.xlim()\n",
    "plt.xlim(l-.5, r+.5)\n",
    "plt.title(f\"Akkumulierte Energiekosten in {dt.year}\")\n",
    "\n",
    "plt.show()"
   ]
  },
  {
   "cell_type": "markdown",
   "id": "bd2204b8",
   "metadata": {},
   "source": [
    "#### CO<sub>2</sub>-Ersparnis\n",
    "\n",
    "Das Umweltbundesamt stellt die [\"Entwicklung der spezifischen Treibhausgas-Emissionen des deutschen Strommix in den Jahren 1990 - 2022\"](https://www.umweltbundesamt.de/publikationen/entwicklung-der-spezifischen-treibhausgas-9) zur Verfügung und anhand dieser Daten und dem Eigenverbrauch aus der PV-Anlage lässt sich recht leicht die jährliche CO<sub>2</sub>-Ersparnis berechnen (einen normalen Strommix vom Versorger und keinen \"grünen\" Tarif vorausgesetzt). Eine schnell zu lesende Tabelle findet sich [hier](https://www.umweltbundesamt.de/themen/co2-emissionen-pro-kilowattstunde-strom-stiegen-in). Der Bericht ist tatsächlich traurig, da er feststellt, dass die CO<sub>2</sub>-Emissionen pro Kilowattstunde Strom seit 2021 wieder gestiegen ist."
   ]
  },
  {
   "cell_type": "code",
   "execution_count": null,
   "id": "7476494c",
   "metadata": {},
   "outputs": [],
   "source": [
    "new_names = {'year': 'Jahr', 'total': 'CO2-Ersparnis in kg'}\n",
    "db.execute('SELECT * FROM v_accumulated_yearly_co2_savings').df().fillna(0).rename(columns=new_names).set_index('Jahr')"
   ]
  },
  {
   "cell_type": "markdown",
   "id": "c08ad670",
   "metadata": {},
   "source": [
    "Ein Flug nach Mallorca verursacht laut WWF-Berechnungen wohl 925 Killogramm CO<sub>2</sub> pro Kopf (Quelle: [Der Spiegel](https://www.spiegel.de/reise/aktuell/klimabilanz-mallorca-urlaub-so-schaedlich-wie-ein-jahr-autofahren-a-642221.html)). Das nur zum Vergleich."
   ]
  },
  {
   "cell_type": "markdown",
   "id": "b0c641dc",
   "metadata": {},
   "source": [
    "#### Verbrauch\n",
    "\n",
    "Mein Leben lang habe ich ohne einen niedrigschwellig ablesbaren Stromzähler gelebt.\n",
    "Der Mensch läuft ja nicht alle paar Minuten in den Keller, um den [\"Ferraris-Zähler\"](https://de.wikipedia.org/wiki/Ferraris-Zähler) abzulesen. Da wir aber tatsächlich für einen IT-Haushalt außergewöhnlich wenige dauerhaft laufende Dinge hier rumstehen haben, war der Verbrauch für eine vierköpfige Familie eigentlich immer im Rahmen.\n",
    "\n",
    "Nichts desto trotz ist es spannend, die eigenen Muster zu sehen und vielleicht doch an der einen oder anderen Stelle zu hinterfragen. Wir haben kurz überlegt, noch einige Smart-Steckdosen anzuschaffen und über den Energymanager zu steuern und einige Verbräuche zu optimieren, aber das widerspräche zum einen dem Wunsch eben möglichst wenige, crappy \"Smart-Devices\" hier zu haben und zum anderen: Wieviel Strom muss ich mit einer Wifi-Steckdose sparen, bis sich 40€ oder mehr plus der Stromverbrauch von dem Dingen rechtfertigen?\n",
    "Moderne Kühl- und Gefrierschränke nachts abzuschalten lohnt ebenfalls kaum, die Motoren laufen wenig… Das ist schön in den aufgezeichneten Verbrauchskurven sichtbar.\n",
    "\n",
    "Am Ende haben wir uns dafür entschieden, einige Verbraucher von denen wir sicher wissen, dass sie nachts nicht im Standby rumidlen müssen, mit einer [ernsthaft smarten Steckdose](https://de.wikipedia.org/wiki/Zeitschaltuhr#Mechanische_Zeitschaltuhren) auszustatten und gut ist… Mit einer Grundlast von 100 bis 200 Watt kann ich ohne Bauchschmerzen leben."
   ]
  },
  {
   "cell_type": "code",
   "execution_count": null,
   "id": "b0e07eaf",
   "metadata": {},
   "outputs": [],
   "source": [
    "df = db.execute('SELECT * FROM v_average_consumption_per_month_and_hour') \\\n",
    "  .df().dropna(how='all', axis=1) \\\n",
    "  .rename(columns=new_names_month_hour) \\\n",
    "  .set_index(['Stunde'])\n",
    "df.style \\\n",
    "  .background_gradient(cmap='plasma') \\\n",
    "  .set_properties(**{'text-align': 'right'}) \\\n",
    "  .set_table_styles([dict(selector='th', props=[('text-align', 'right')])]) \\\n",
    "  .format(formatter) "
   ]
  }
 ],
 "metadata": {
  "kernelspec": {
   "display_name": "Python 3 (ipykernel)",
   "language": "python",
   "name": "python3"
  },
  "language_info": {
   "codemirror_mode": {
    "name": "ipython",
    "version": 3
   },
   "file_extension": ".py",
   "mimetype": "text/x-python",
   "name": "python",
   "nbconvert_exporter": "python",
   "pygments_lexer": "ipython3",
   "version": "3.11.6"
  }
 },
 "nbformat": 4,
 "nbformat_minor": 5
}
